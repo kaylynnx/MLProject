{
 "cells": [
  {
   "cell_type": "code",
   "execution_count": 1,
   "id": "235a3e28-6337-4f3e-8656-f39a6bb3eec3",
   "metadata": {},
   "outputs": [],
   "source": [
    "from os import listdir\n",
    "from pandas import read_csv\n",
    "import pandas as pd\n",
    "import glob"
   ]
  },
  {
   "cell_type": "code",
   "execution_count": 2,
   "id": "59a4852d-deaa-4908-87c3-528cae7a0f11",
   "metadata": {},
   "outputs": [
    {
     "name": "stdout",
     "output_type": "stream",
     "text": [
      "Loaded 0 subjects\n"
     ]
    }
   ],
   "source": [
    "# Step 1: Download the zip file\n",
    "import urllib.request\n",
    "\n",
    "url = \"https://archive.ics.uci.edu/ml/machine-learning-databases/00287/Activity%20Recognition%20from%20Single%20Chest-Mounted%20Accelerometer.zip\"\n",
    "filename = \"Activity_Recognition_from_Single_Chest-Mounted_Accelerometer.zip\"\n",
    "\n",
    "urllib.request.urlretrieve(url, filename)\n",
    "\n",
    "# Step 2: Extract the zip file\n",
    "import zipfile\n",
    "\n",
    "with zipfile.ZipFile(filename, 'r') as zip_ref:\n",
    "    zip_ref.extractall()\n",
    "\n",
    "csv_files = glob.glob(\"Activity Recognition from Single Chest-Mounted Accelerometer/1.csv\".format('csv'))\n",
    "csv_files.append((\"Activity Recognition from Single Chest-Mounted Accelerometer/2.csv\"))\n",
    "csv_files.append((\"Activity Recognition from Single Chest-Mounted Accelerometer/3.csv\"))\n",
    "csv_files.append((\"Activity Recognition from Single Chest-Mounted Accelerometer/4.csv\"))\n",
    "csv_files.append((\"Activity Recognition from Single Chest-Mounted Accelerometer/5.csv\"))\n",
    "csv_files.append((\"Activity Recognition from Single Chest-Mounted Accelerometer/6.csv\"))\n",
    "csv_files.append((\"Activity Recognition from Single Chest-Mounted Accelerometer/7.csv\"))\n",
    "csv_files.append((\"Activity Recognition from Single Chest-Mounted Accelerometer/8.csv\"))\n",
    "csv_files.append((\"Activity Recognition from Single Chest-Mounted Accelerometer/9.csv\"))\n",
    "csv_files.append((\"Activity Recognition from Single Chest-Mounted Accelerometer/10.csv\"))\n",
    "csv_files.append((\"Activity Recognition from Single Chest-Mounted Accelerometer/11.csv\"))\n",
    "csv_files.append((\"Activity Recognition from Single Chest-Mounted Accelerometer/12.csv\"))\n",
    "csv_files.append((\"Activity Recognition from Single Chest-Mounted Accelerometer/13.csv\"))\n",
    "csv_files.append((\"Activity Recognition from Single Chest-Mounted Accelerometer/14.csv\"))\n",
    "csv_files.append((\"Activity Recognition from Single Chest-Mounted Accelerometer/15.csv\"))\n",
    "\n",
    "csv_files\n",
    "\n",
    "# Step 3: Load the dataset\n",
    "df_concat = pd.concat([pd.read_csv(f) for f in csv_files ], ignore_index=True)\n",
    "df_concat\n",
    "\n",
    "# View the data\n",
    "print(df_concat.head())"
   ]
  }
 ],
 "metadata": {
  "kernelspec": {
   "display_name": "Python 3 (ipykernel)",
   "language": "python",
   "name": "python3"
  },
  "language_info": {
   "codemirror_mode": {
    "name": "ipython",
    "version": 3
   },
   "file_extension": ".py",
   "mimetype": "text/x-python",
   "name": "python",
   "nbconvert_exporter": "python",
   "pygments_lexer": "ipython3",
   "version": "3.9.13"
  }
 },
 "nbformat": 4,
 "nbformat_minor": 5
}
