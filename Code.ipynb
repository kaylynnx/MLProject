{
 "cells": [
  {
   "cell_type": "code",
   "execution_count": 45,
   "id": "235a3e28-6337-4f3e-8656-f39a6bb3eec3",
   "metadata": {},
   "outputs": [],
   "source": [
    "from os import listdir\n",
    "from pandas import read_csv\n",
    "import pandas as pd\n",
    "import numpy as np\n",
    "import glob\n",
    "from pandas import DataFrame\n",
    "from matplotlib import pyplot\n",
    "from numpy import vstack\n",
    "from numpy import unique"
   ]
  },
  {
   "cell_type": "code",
   "execution_count": 46,
   "id": "59a4852d-deaa-4908-87c3-528cae7a0f11",
   "metadata": {},
   "outputs": [],
   "source": [
    "# load a single file as a numpy array\n",
    "def load_file(filepath):\n",
    "    dataframe = read_csv(filepath, header=None, delim_whitespace=True)\n",
    "    return dataframe.values\n",
    "\n",
    "# load a group of files, such as x, y, z data for a given variable and  return them as a 3d numpy array\n",
    "def load_group(filenames, prefix=''):\n",
    "    loaded = list()\n",
    "    for name in filenames:\n",
    "        data = load_file(prefix + name)\n",
    "        loaded.append(data)\n",
    "    # stack group so that features are the 3rd dimension\n",
    "    loaded = np.dstack(loaded)\n",
    "    return loaded\n",
    "\n",
    "# load a dataset type, such as train or test\n",
    "def load_dataset(type, prefix=''):\n",
    "    path = prefix + type + '/Inertial Signals/'\n",
    "    \n",
    "    filenames = list()\n",
    "    # total acceleration\n",
    "    filenames += ['total_acc_x_' + type + '.txt', 'total_acc_y_' + type + '.txt', 'total_acc_z_' + type + '.txt']\n",
    "    # body acceleration\n",
    "    filenames += ['body_acc_x_' + type + '.txt', 'body_acc_y_' + type + '.txt', 'body_acc_z_' + type + '.txt']\n",
    "    # body gyroscope\n",
    "    filenames += ['body_gyro_x_' + type + '.txt', 'body_gyro_y_' + type + '.txt', 'body_gyro_z_' + type + '.txt']\n",
    "\n",
    "    # load input data\n",
    "    X = load_group(filenames, path)\n",
    "    # load output data\n",
    "    y = load_file(prefix + type + '/y_'+type+'.txt')\n",
    "    return X, y"
   ]
  },
  {
   "cell_type": "code",
   "execution_count": 48,
   "id": "d289c5ca-3bc6-4e48-a147-d5c821ed9b29",
   "metadata": {},
   "outputs": [],
   "source": [
    "# summarize the balance of classes in an output variable column\n",
    "def class_breakdown(data):\n",
    "    # convert the numpy array into a dataframe\n",
    "    df = DataFrame(data)\n",
    "    # group data by the class value and calculate the number of rows\n",
    "    counts = df.groupby(0).size()\n",
    "    # retrieve raw rows\n",
    "    counts = counts.values\n",
    "    # summarize\n",
    "    for i in range(len(counts)):\n",
    "        percent = counts[i] / len(df) * 100\n",
    "        print('Class=%d, total=%d, percentage=%.3f' % (i+1, counts[i], percent))"
   ]
  },
  {
   "cell_type": "code",
   "execution_count": 49,
   "id": "2709434a-713e-460e-8d99-e48f24d0b2d1",
   "metadata": {},
   "outputs": [
    {
     "name": "stdout",
     "output_type": "stream",
     "text": [
      "Class=1, total=1226, percentage=16.676\n",
      "Class=2, total=1073, percentage=14.595\n",
      "Class=3, total=986, percentage=13.411\n",
      "Class=4, total=1286, percentage=17.492\n",
      "Class=5, total=1374, percentage=18.689\n",
      "Class=6, total=1407, percentage=19.138\n",
      "Class=1, total=496, percentage=16.831\n",
      "Class=2, total=471, percentage=15.982\n",
      "Class=3, total=420, percentage=14.252\n",
      "Class=4, total=491, percentage=16.661\n",
      "Class=5, total=532, percentage=18.052\n",
      "Class=6, total=537, percentage=18.222\n",
      "Both\n",
      "Class=1, total=1722, percentage=16.720\n",
      "Class=2, total=1544, percentage=14.992\n",
      "Class=3, total=1406, percentage=13.652\n",
      "Class=4, total=1777, percentage=17.254\n",
      "Class=5, total=1906, percentage=18.507\n",
      "Class=6, total=1944, percentage=18.876\n"
     ]
    }
   ],
   "source": [
    "# load all train data\n",
    "trainX, trainy = load_dataset('train', 'UCI HAR Dataset/')\n",
    "class_breakdown(trainy)\n",
    "# load all test data\n",
    "testX, testy = load_dataset('test', 'UCI HAR Dataset/')\n",
    "class_breakdown(testy)\n",
    "\n",
    "print('Both')\n",
    "combined = vstack((trainy, testy))\n",
    "class_breakdown(combined)"
   ]
  },
  {
   "cell_type": "code",
   "execution_count": 51,
   "id": "d834b0b7-7f7a-4480-a8cc-44df85c10cdf",
   "metadata": {},
   "outputs": [
    {
     "name": "stdout",
     "output_type": "stream",
     "text": [
      "[ 1  3  5  6  7  8 11 14 15 16 17 19 21 22 23 25 26 27 28 29 30]\n"
     ]
    }
   ],
   "source": [
    "# load data\n",
    "trainX, trainy = load_dataset('train', 'UCI HAR Dataset/')\n",
    "\n",
    "sub_map = load_file('UCI HAR Dataset/train/subject_train.txt')\n",
    "train_subjects = unique(sub_map)\n",
    "print(train_subjects)"
   ]
  },
  {
   "cell_type": "code",
   "execution_count": 52,
   "id": "7dfdbbd2-64d8-4674-8d34-b13d725026f4",
   "metadata": {},
   "outputs": [],
   "source": [
    "# get all data for one subject\n",
    "def data_for_subject(X, y, sub_map, sub_id):\n",
    "    # get row indexes for the subject id\n",
    "    ix = [i for i in range(len(sub_map)) if sub_map[i]==sub_id]\n",
    "    # return the selected samples\n",
    "    return X[ix, :, :], y[ix]"
   ]
  },
  {
   "cell_type": "code",
   "execution_count": 53,
   "id": "58dddec5-71e7-4a89-a163-a6282be9febb",
   "metadata": {},
   "outputs": [],
   "source": [
    "# convert a series of windows to a 1D list\n",
    "def to_series(windows):\n",
    "    series = list()\n",
    "    for window in windows:\n",
    "        # remove the overlap from the window\n",
    "        half = int(len(window) / 2) - 1\n",
    "        for value in window[-half:]:\n",
    "            series.append(value)\n",
    "    return series"
   ]
  },
  {
   "cell_type": "code",
   "execution_count": 54,
   "id": "7a401ee9-c0e3-4a3f-880b-928ce42b6095",
   "metadata": {},
   "outputs": [],
   "source": [
    "def plot_subject(X, y):\n",
    "    pyplot.figure()\n",
    "    n, off = X.shape[2] + 1, 0\n",
    "    \n",
    "    # total acceleration\n",
    "    for i in range(3):\n",
    "        pyplot.subplot(n, 1, off + 1)\n",
    "        pyplot.plot(to_series(X[:, :, off]))\n",
    "        pyplot.title('total acc ' + str(i), y = 0, loc = 'left')\n",
    "        off += 1\n",
    "    \n",
    "    # body acceleration\n",
    "    for i in range(3):\n",
    "        pyplot.subplot(n, 1, off + 1)\n",
    "        pyplot.plot(to_series(X[:, :, off]))\n",
    "        pyplot.title('body acc ' + str(i), y = 0, loc = 'left')\n",
    "    \n",
    "    # body gyro\n",
    "    for i in range(3):\n",
    "        pyplot.subplot(n, 1, off + 1)\n",
    "        pyplot.plot(to_series(X[:, :, off]))\n",
    "        pyplot.title('body gyro ' + str(i), y = 0, loc = 'left')\n",
    "    \n",
    "    pyplot.subplot(n, 1, n)\n",
    "    pyplot.plot(y)\n",
    "    pyplot.title('activity', y=0, loc='left')\n",
    "    pyplot.show()"
   ]
  },
  {
   "cell_type": "markdown",
   "id": "617c5fe0-920a-4f68-8b4d-a761096bc274",
   "metadata": {},
   "source": [
    "About the dataset: \n",
    "\n",
    "\"The experiments have been carried out with a group of 30 volunteers within an age bracket of 19-48 years. Each person performed six activities (WALKING, WALKING_UPSTAIRS, WALKING_DOWNSTAIRS, SITTING, STANDING, LAYING) wearing a smartphone (Samsung Galaxy S II) on the waist. Using its embedded accelerometer and gyroscope, we captured 3-axial linear acceleration and 3-axial angular velocity at a constant rate of 50Hz. The experiments have been video-recorded to label the data manually. The obtained dataset has been randomly partitioned into two sets, where 70% of the volunteers was selected for generating the training data and 30% the test data. \n",
    "\n",
    "The sensor signals (accelerometer and gyroscope) were pre-processed by applying noise filters and then sampled in fixed-width sliding windows of 2.56 sec and 50% overlap (128 readings/window). The sensor acceleration signal, which has gravitational and body motion components, was separated using a Butterworth low-pass filter into body acceleration and gravity. The gravitational force is assumed to have only low frequency components, therefore a filter with 0.3 Hz cutoff frequency was used. From each window, a vector of features was obtained by calculating variables from the time and frequency domain.\"\n",
    "\n",
    "\"The features selected for this database come from the accelerometer and gyroscope 3-axial raw signals tAcc-XYZ and tGyro-XYZ. These time domain signals (prefix 't' to denote time) were captured at a constant rate of 50 Hz. Then they were filtered using a median filter and a 3rd order low pass Butterworth filter with a corner frequency of 20 Hz to remove noise. Similarly, the acceleration signal was then separated into body and gravity acceleration signals (tBodyAcc-XYZ and tGravityAcc-XYZ) using another low pass Butterworth filter with a corner frequency of 0.3 Hz. \n",
    "\n",
    "Subsequently, the body linear acceleration and angular velocity were derived in time to obtain Jerk signals (tBodyAccJerk-XYZ and tBodyGyroJerk-XYZ). Also the magnitude of these three-dimensional signals were calculated using the Euclidean norm (tBodyAccMag, tGravityAccMag, tBodyAccJerkMag, tBodyGyroMag, tBodyGyroJerkMag). \n",
    "\n",
    "Finally a Fast Fourier Transform (FFT) was applied to some of these signals producing fBodyAcc-XYZ, fBodyAccJerk-XYZ, fBodyGyro-XYZ, fBodyAccJerkMag, fBodyGyroMag, fBodyGyroJerkMag. (Note the 'f' to indicate frequency domain signals). \n",
    "\n",
    "These signals were used to estimate variables of the feature vector for each pattern:  \n",
    "'-XYZ' is used to denote 3-axial signals in the X, Y and Z directions.\""
   ]
  },
  {
   "cell_type": "markdown",
   "id": "56368260-6256-44e1-bf6f-b8025469c83a",
   "metadata": {},
   "source": [
    "*Note for writing about bias\n",
    "Read Datasheets for data sets\n",
    "Model carts for model reporting\n",
    "\n",
    "age exclusion - doesn't work well for everyone"
   ]
  },
  {
   "cell_type": "code",
   "execution_count": null,
   "id": "a266edb1-ad9b-4b1d-b4a7-091dd2c85cfe",
   "metadata": {},
   "outputs": [],
   "source": []
  }
 ],
 "metadata": {
  "kernelspec": {
   "display_name": "Python 3 (ipykernel)",
   "language": "python",
   "name": "python3"
  },
  "language_info": {
   "codemirror_mode": {
    "name": "ipython",
    "version": 3
   },
   "file_extension": ".py",
   "mimetype": "text/x-python",
   "name": "python",
   "nbconvert_exporter": "python",
   "pygments_lexer": "ipython3",
   "version": "3.9.13"
  }
 },
 "nbformat": 4,
 "nbformat_minor": 5
}
