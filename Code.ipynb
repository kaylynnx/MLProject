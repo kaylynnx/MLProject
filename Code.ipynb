{
 "cells": [
  {
   "cell_type": "code",
   "execution_count": 14,
   "id": "235a3e28-6337-4f3e-8656-f39a6bb3eec3",
   "metadata": {},
   "outputs": [],
   "source": [
    "from os import listdir\n",
    "from pandas import read_csv\n",
    "import pandas as pd\n",
    "import numpy as np\n",
    "import glob\n",
    "from pandas import DataFrame"
   ]
  },
  {
   "cell_type": "code",
   "execution_count": 15,
   "id": "59a4852d-deaa-4908-87c3-528cae7a0f11",
   "metadata": {},
   "outputs": [],
   "source": [
    "# load a single file as a numpy array\n",
    "def load_file(filepath):\n",
    "    dataframe = read_csv(filepath, header=None, delim_whitespace=True)\n",
    "    return dataframe.values\n",
    "\n",
    "# load a group of files, such as x, y, z data for a given variable and  return them as a 3d numpy array\n",
    "def load_group(filenames, prefix=''):\n",
    "    loaded = list()\n",
    "    for name in filenames:\n",
    "        data = load_file(prefix + name)\n",
    "        loaded.append(data)\n",
    "    # stack group so that features are the 3rd dimension\n",
    "    loaded = np.dstack(loaded)\n",
    "    return loaded\n",
    "\n",
    "# load a dataset type, such as train or test\n",
    "def load_dataset(type, prefix=''):\n",
    "    path = prefix + type + '/Inertial Signals/'\n",
    "    \n",
    "    filenames = list()\n",
    "    # total acceleration\n",
    "    filenames += ['total_acc_x_' + type + '.txt', 'total_acc_y_' + type + '.txt', 'total_acc_z_' + type + '.txt']\n",
    "    # body acceleration\n",
    "    filenames += ['body_acc_x_' + type + '.txt', 'body_acc_y_' + type + '.txt', 'body_acc_z_' + type + '.txt']\n",
    "    # body gyroscope\n",
    "    filenames += ['body_gyro_x_' + type + '.txt', 'body_gyro_y_' + type + '.txt', 'body_gyro_z_' + type + '.txt']\n",
    "\n",
    "    # load input data\n",
    "    X = load_group(filenames, path)\n",
    "    # load output data\n",
    "    y = load_file(prefix + type + '/y_'+type+'.txt')\n",
    "    return X, y"
   ]
  },
  {
   "cell_type": "code",
   "execution_count": 16,
   "id": "d289c5ca-3bc6-4e48-a147-d5c821ed9b29",
   "metadata": {},
   "outputs": [],
   "source": [
    "# summarize the balance of classes in an output variable column\n",
    "def class_breakdown(data):\n",
    "    # convert the numpy array into a dataframe\n",
    "    df = DataFrame(data)\n",
    "    # group data by the class value and calculate the number of rows\n",
    "    counts = df.groupby(0).size()\n",
    "    # retrieve raw rows\n",
    "    counts = counts.values\n",
    "    # summarize\n",
    "    for i in range(len(counts)):\n",
    "        percent = counts[i] / len(df) * 100\n",
    "        print('Class=%d, total=%d, percentage=%.3f' % (i+1, counts[i], percent))"
   ]
  },
  {
   "cell_type": "code",
   "execution_count": 17,
   "id": "2709434a-713e-460e-8d99-e48f24d0b2d1",
   "metadata": {},
   "outputs": [
    {
     "name": "stdout",
     "output_type": "stream",
     "text": [
      "Class=1, total=1226, percentage=16.676\n",
      "Class=2, total=1073, percentage=14.595\n",
      "Class=3, total=986, percentage=13.411\n",
      "Class=4, total=1286, percentage=17.492\n",
      "Class=5, total=1374, percentage=18.689\n",
      "Class=6, total=1407, percentage=19.138\n",
      "Class=1, total=496, percentage=16.831\n",
      "Class=2, total=471, percentage=15.982\n",
      "Class=3, total=420, percentage=14.252\n",
      "Class=4, total=491, percentage=16.661\n",
      "Class=5, total=532, percentage=18.052\n",
      "Class=6, total=537, percentage=18.222\n"
     ]
    }
   ],
   "source": [
    "# load all train data\n",
    "trainX, trainy = load_dataset('train', 'UCI HAR Dataset/')\n",
    "class_breakdown(trainy)\n",
    "# load all test data\n",
    "testX, testy = load_dataset('test', 'UCI HAR Dataset/')\n",
    "class_breakdown(testy)"
   ]
  },
  {
   "cell_type": "code",
   "execution_count": 18,
   "id": "d834b0b7-7f7a-4480-a8cc-44df85c10cdf",
   "metadata": {},
   "outputs": [
    {
     "data": {
      "text/plain": [
       "array([[[ 1.012817e+00, -1.232167e-01,  1.029341e-01, ...,\n",
       "          3.019122e-02,  6.601362e-02,  2.285864e-02],\n",
       "        [ 1.022833e+00, -1.268756e-01,  1.056872e-01, ...,\n",
       "          4.371071e-02,  4.269897e-02,  1.031572e-02],\n",
       "        [ 1.022028e+00, -1.240037e-01,  1.021025e-01, ...,\n",
       "          3.568780e-02,  7.485018e-02,  1.324969e-02],\n",
       "        ...,\n",
       "        [ 1.018445e+00, -1.240696e-01,  1.003852e-01, ...,\n",
       "          3.985177e-02,  1.909445e-03, -2.170124e-03],\n",
       "        [ 1.019372e+00, -1.227451e-01,  9.987355e-02, ...,\n",
       "          3.744932e-02, -7.982483e-05, -5.642633e-03],\n",
       "        [ 1.021171e+00, -1.213260e-01,  9.498741e-02, ...,\n",
       "          2.881781e-02, -3.771800e-05, -1.446006e-03]],\n",
       "\n",
       "       [[ 1.018851e+00, -1.239760e-01,  9.792958e-02, ...,\n",
       "          1.711106e-02,  6.122797e-03,  1.226815e-02],\n",
       "        [ 1.022380e+00, -1.268078e-01,  9.935086e-02, ...,\n",
       "          2.417851e-02,  9.710357e-03,  1.614958e-02],\n",
       "        [ 1.020781e+00, -1.277862e-01,  9.811381e-02, ...,\n",
       "          3.022889e-02,  1.032192e-02,  1.589471e-02],\n",
       "        ...,\n",
       "        [ 1.014788e+00, -1.290268e-01,  9.353520e-02, ...,\n",
       "         -3.474078e-02, -8.694754e-03,  5.044730e-03],\n",
       "        [ 1.016499e+00, -1.264244e-01,  8.903516e-02, ...,\n",
       "         -3.797305e-02, -1.165249e-02, -4.424329e-03],\n",
       "        [ 1.017849e+00, -1.305193e-01,  9.061235e-02, ...,\n",
       "         -3.864973e-02, -9.440197e-03, -2.797817e-03]],\n",
       "\n",
       "       [[ 1.023127e+00, -1.200157e-01,  9.111667e-02, ...,\n",
       "          2.618877e-02, -2.383410e-04,  2.158897e-03],\n",
       "        [ 1.021882e+00, -1.214994e-01,  9.267560e-02, ...,\n",
       "          2.165149e-02, -4.275982e-04, -2.724752e-04],\n",
       "        [ 1.019178e+00, -1.228407e-01,  9.606378e-02, ...,\n",
       "          1.455062e-02,  7.611350e-04,  2.630986e-03],\n",
       "        ...,\n",
       "        [ 1.021041e+00, -1.308757e-01,  8.301135e-02, ...,\n",
       "         -2.090983e-02, -1.005391e-02, -5.566286e-03],\n",
       "        [ 1.022935e+00, -1.312099e-01,  8.233391e-02, ...,\n",
       "         -2.211369e-02, -9.717281e-03, -3.701625e-03],\n",
       "        [ 1.022019e+00, -1.301826e-01,  8.148748e-02, ...,\n",
       "         -2.023537e-02, -8.831462e-03, -2.644745e-03]],\n",
       "\n",
       "       ...,\n",
       "\n",
       "       [[ 7.548917e-01, -1.711829e-01,  1.745865e-01, ...,\n",
       "          1.183561e-01,  4.267019e-01,  3.008475e-01],\n",
       "        [ 8.043137e-01, -1.999375e-01,  2.324243e-01, ...,\n",
       "          1.378901e-01,  3.223201e-01,  3.511780e-01],\n",
       "        [ 8.317140e-01, -2.319457e-01,  2.576066e-01, ...,\n",
       "          1.774201e-01,  2.331586e-01,  2.723513e-01],\n",
       "        ...,\n",
       "        [ 6.956257e-01, -2.217656e-01,  1.112952e-01, ...,\n",
       "         -7.609545e-01,  6.840804e-01,  2.543444e-01],\n",
       "        [ 7.479103e-01, -2.811496e-01,  1.263023e-01, ...,\n",
       "         -6.779630e-01,  6.291636e-01,  2.814308e-01],\n",
       "        [ 7.767680e-01, -3.275988e-01,  1.886212e-01, ...,\n",
       "         -6.275012e-01,  4.812542e-01,  2.542062e-01]],\n",
       "\n",
       "       [[ 9.279268e-01, -2.238010e-01,  2.628140e-01, ...,\n",
       "         -3.788723e-01,  1.642781e-01,  2.175042e-01],\n",
       "        [ 9.129872e-01, -2.210407e-01,  2.954154e-01, ...,\n",
       "         -3.738884e-01,  6.393670e-02,  1.584971e-01],\n",
       "        [ 9.246597e-01, -1.839923e-01,  3.376098e-01, ...,\n",
       "         -3.301252e-01, -9.430612e-02,  1.868787e-01],\n",
       "        ...,\n",
       "        [ 6.753473e-01, -1.620087e-01,  1.289247e-01, ...,\n",
       "         -4.254607e-01,  6.504409e-01,  1.762117e-01],\n",
       "        [ 6.603377e-01, -2.020367e-01,  1.722512e-01, ...,\n",
       "         -4.755471e-01,  4.097342e-01,  1.635609e-01],\n",
       "        [ 7.193530e-01, -2.291273e-01,  2.100712e-01, ...,\n",
       "         -4.129589e-01,  1.998230e-01,  1.887340e-01]],\n",
       "\n",
       "       [[ 7.980909e-01, -3.060512e-01,  2.093865e-01, ...,\n",
       "         -4.767788e-01,  2.889329e-01,  2.277976e-01],\n",
       "        [ 8.192417e-01, -2.666046e-01,  2.310711e-01, ...,\n",
       "         -2.679120e-01,  1.712000e-01,  1.034757e-01],\n",
       "        [ 8.658821e-01, -2.053607e-01,  3.341906e-01, ...,\n",
       "         -1.905664e-01,  1.424723e-01, -7.565458e-02],\n",
       "        ...,\n",
       "        [ 8.980947e-01, -3.977751e-01, -1.561050e-01, ...,\n",
       "          1.004855e+00,  1.156645e+00, -3.625121e-01],\n",
       "        [ 8.283723e-01, -3.492473e-01, -1.227979e-01, ...,\n",
       "          1.015589e+00,  1.100750e+00, -3.839895e-01],\n",
       "        [ 8.002428e-01, -3.323721e-01, -8.357159e-02, ...,\n",
       "          1.047599e+00,  1.011324e+00, -3.358840e-01]]])"
      ]
     },
     "execution_count": 18,
     "metadata": {},
     "output_type": "execute_result"
    }
   ],
   "source": [
    "trainX"
   ]
  },
  {
   "cell_type": "markdown",
   "id": "617c5fe0-920a-4f68-8b4d-a761096bc274",
   "metadata": {},
   "source": [
    "About the dataset: \n",
    "\n",
    "\"The experiments have been carried out with a group of 30 volunteers within an age bracket of 19-48 years. Each person performed six activities (WALKING, WALKING_UPSTAIRS, WALKING_DOWNSTAIRS, SITTING, STANDING, LAYING) wearing a smartphone (Samsung Galaxy S II) on the waist. Using its embedded accelerometer and gyroscope, we captured 3-axial linear acceleration and 3-axial angular velocity at a constant rate of 50Hz. The experiments have been video-recorded to label the data manually. The obtained dataset has been randomly partitioned into two sets, where 70% of the volunteers was selected for generating the training data and 30% the test data. \n",
    "\n",
    "The sensor signals (accelerometer and gyroscope) were pre-processed by applying noise filters and then sampled in fixed-width sliding windows of 2.56 sec and 50% overlap (128 readings/window). The sensor acceleration signal, which has gravitational and body motion components, was separated using a Butterworth low-pass filter into body acceleration and gravity. The gravitational force is assumed to have only low frequency components, therefore a filter with 0.3 Hz cutoff frequency was used. From each window, a vector of features was obtained by calculating variables from the time and frequency domain.\"\n",
    "\n",
    "\"The features selected for this database come from the accelerometer and gyroscope 3-axial raw signals tAcc-XYZ and tGyro-XYZ. These time domain signals (prefix 't' to denote time) were captured at a constant rate of 50 Hz. Then they were filtered using a median filter and a 3rd order low pass Butterworth filter with a corner frequency of 20 Hz to remove noise. Similarly, the acceleration signal was then separated into body and gravity acceleration signals (tBodyAcc-XYZ and tGravityAcc-XYZ) using another low pass Butterworth filter with a corner frequency of 0.3 Hz. \n",
    "\n",
    "Subsequently, the body linear acceleration and angular velocity were derived in time to obtain Jerk signals (tBodyAccJerk-XYZ and tBodyGyroJerk-XYZ). Also the magnitude of these three-dimensional signals were calculated using the Euclidean norm (tBodyAccMag, tGravityAccMag, tBodyAccJerkMag, tBodyGyroMag, tBodyGyroJerkMag). \n",
    "\n",
    "Finally a Fast Fourier Transform (FFT) was applied to some of these signals producing fBodyAcc-XYZ, fBodyAccJerk-XYZ, fBodyGyro-XYZ, fBodyAccJerkMag, fBodyGyroMag, fBodyGyroJerkMag. (Note the 'f' to indicate frequency domain signals). \n",
    "\n",
    "These signals were used to estimate variables of the feature vector for each pattern:  \n",
    "'-XYZ' is used to denote 3-axial signals in the X, Y and Z directions.\""
   ]
  },
  {
   "cell_type": "markdown",
   "id": "56368260-6256-44e1-bf6f-b8025469c83a",
   "metadata": {},
   "source": [
    "Read Datasheets for data sets\n",
    "Model carts for model reporting\n",
    "\n",
    "age exclusion - doesn't work well for everyone\n",
    "\n"
   ]
  }
 ],
 "metadata": {
  "kernelspec": {
   "display_name": "Python 3 (ipykernel)",
   "language": "python",
   "name": "python3"
  },
  "language_info": {
   "codemirror_mode": {
    "name": "ipython",
    "version": 3
   },
   "file_extension": ".py",
   "mimetype": "text/x-python",
   "name": "python",
   "nbconvert_exporter": "python",
   "pygments_lexer": "ipython3",
   "version": "3.9.13"
  }
 },
 "nbformat": 4,
 "nbformat_minor": 5
}
