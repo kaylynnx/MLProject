{
 "cells": [
  {
   "cell_type": "code",
   "execution_count": 10,
   "id": "235a3e28-6337-4f3e-8656-f39a6bb3eec3",
   "metadata": {},
   "outputs": [],
   "source": [
    "from os import listdir\n",
    "from pandas import read_csv\n",
    "import pandas as pd\n",
    "import numpy as np\n",
    "import glob"
   ]
  },
  {
   "cell_type": "code",
   "execution_count": 23,
   "id": "5fda21f8",
   "metadata": {},
   "outputs": [
    {
     "name": "stdout",
     "output_type": "stream",
     "text": [
      "(7352, 128, 9) (7352, 1)\n",
      "(2947, 128, 9) (2947, 1)\n"
     ]
    }
   ],
   "source": [
    "# load a single file as a numpy array\n",
    "def load_file(filepath):\n",
    "   dataframe = read_csv(filepath, header=None, delim_whitespace=True)\n",
    "   return dataframe.values\n",
    "\n",
    "# load a group of files, such as x, y, z data for a given variable and  return them as a 3d numpy array\n",
    "def load_group(filenames, prefix=''):\n",
    "   loaded = list()\n",
    "   for name in filenames:\n",
    "      data = load_file(prefix + name)\n",
    "      loaded.append(data)\n",
    "      # stack group so that features are the 3rd dimension\n",
    "   loaded = np.dstack(loaded)\n",
    "   return loaded\n",
    "\n",
    "# load a dataset type, such as train or test\n",
    "def load_dataset(type, prefix=''):\n",
    "   path = prefix + type + '/Inertial Signals/'\n",
    "\n",
    "   filenames = list()\n",
    "   # total acceleration\n",
    "   filenames += ['total_acc_x_' + type + '.txt', 'total_acc_y_' + type + '.txt', 'total_acc_z_' + type + '.txt']\n",
    "   # body acceleration\n",
    "   filenames += ['body_acc_x_' + type + '.txt', 'body_acc_y_' + type + '.txt', 'body_acc_z_' + type + '.txt']\n",
    "   # body gyroscope\n",
    "   filenames += ['body_gyro_x_' + type + '.txt', 'body_gyro_y_' + type + '.txt', 'body_gyro_z_' + type + '.txt']\n",
    "\n",
    "   # load input data\n",
    "   X = load_group(filenames, path)\n",
    "   # load output data\n",
    "   y = load_file(prefix + type + '/y_'+type+'.txt')\n",
    "   return X, y"
   ]
  },
  {
   "cell_type": "code",
   "execution_count": null,
   "id": "b9bda59c",
   "metadata": {},
   "outputs": [],
   "source": [
    "# load all train data\n",
    "trainX, trainy = load_dataset('train', 'UCI HAR Dataset/')\n",
    "# load all test data\n",
    "testX, testy = load_dataset('test', 'UCI HAR Dataset/')"
   ]
  }
 ],
 "metadata": {
  "kernelspec": {
   "display_name": "Python 3.9.16 ('ml-0451')",
   "language": "python",
   "name": "python3"
  },
  "language_info": {
   "codemirror_mode": {
    "name": "ipython",
    "version": 3
   },
   "file_extension": ".py",
   "mimetype": "text/x-python",
   "name": "python",
   "nbconvert_exporter": "python",
   "pygments_lexer": "ipython3",
   "version": "3.9.16"
  },
  "vscode": {
   "interpreter": {
    "hash": "13b32043c39d15502ca460bca8d60811fc7c9151debef5355faef1d27b6240c8"
   }
  }
 },
 "nbformat": 4,
 "nbformat_minor": 5
}
