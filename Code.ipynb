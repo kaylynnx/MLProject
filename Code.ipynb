{
 "cells": [
  {
   "cell_type": "code",
   "execution_count": 1,
   "id": "235a3e28-6337-4f3e-8656-f39a6bb3eec3",
   "metadata": {},
   "outputs": [],
   "source": [
    "from os import listdir\n",
    "from pandas import read_csv"
   ]
  },
  {
   "cell_type": "code",
   "execution_count": 2,
   "id": "59a4852d-deaa-4908-87c3-528cae7a0f11",
   "metadata": {},
   "outputs": [
    {
     "name": "stdout",
     "output_type": "stream",
     "text": [
      "Loaded 0 subjects\n"
     ]
    }
   ],
   "source": [
    "# load sequence for each subject, returns a list of numpy arrays\n",
    "def load_dataset(prefix=''):\n",
    "    subjects = list()\n",
    "    directory = prefix + 'HAR/'\n",
    "    for name in listdir(directory):\n",
    "            filename = directory + '/' + name\n",
    "            if not filename.endswith('.csv'):\n",
    "                continue\n",
    "                df = read_csv(filename, header=None)\n",
    "                # drop row number\n",
    "                values = df.values[:, 1:]\n",
    "                subjects.append(values)\n",
    "    return subjects\n",
    "\n",
    "\n",
    "subjects = load_dataset()\n",
    "print('Loaded %d subjects' % len(subjects))"
   ]
  }
 ],
 "metadata": {
  "kernelspec": {
   "display_name": "Python 3 (ipykernel)",
   "language": "python",
   "name": "python3"
  },
  "language_info": {
   "codemirror_mode": {
    "name": "ipython",
    "version": 3
   },
   "file_extension": ".py",
   "mimetype": "text/x-python",
   "name": "python",
   "nbconvert_exporter": "python",
   "pygments_lexer": "ipython3",
   "version": "3.9.13"
  }
 },
 "nbformat": 4,
 "nbformat_minor": 5
}
